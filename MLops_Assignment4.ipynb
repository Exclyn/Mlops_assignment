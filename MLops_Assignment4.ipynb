{
  "nbformat": 4,
  "nbformat_minor": 0,
  "metadata": {
    "colab": {
      "provenance": []
    },
    "kernelspec": {
      "name": "python3",
      "display_name": "Python 3"
    },
    "language_info": {
      "name": "python"
    }
  },
  "cells": [
    {
      "cell_type": "markdown",
      "source": [
        "# 1. Import required libraries"
      ],
      "metadata": {
        "id": "ACqqErDNbg19"
      }
    },
    {
      "cell_type": "code",
      "execution_count": null,
      "metadata": {
        "id": "gT_cwd8Awv8v"
      },
      "outputs": [],
      "source": [
        "import seaborn as sns\n",
        "import pandas as pd\n",
        "import numpy as np\n",
        "import matplotlib.pyplot as plt\n",
        "from sklearn.preprocessing import StandardScaler\n"
      ]
    },
    {
      "cell_type": "markdown",
      "source": [
        "# 2. Load and extract Dataset"
      ],
      "metadata": {
        "id": "YW3JVLGPbnGx"
      }
    },
    {
      "cell_type": "code",
      "source": [
        "# Load the Titanic dataset directly from seaborn\n",
        "data = sns.load_dataset('titanic')\n",
        "\n",
        "# Write code to display initial dataset information\n",
        "print(\"Initial Dataset Info:\\n\")\n",
        "print(data.info())\n",
        "\n",
        "# Write code to display the first few rows of the dataset\n",
        "print(\"\\nFirst few rows:\\n\")\n",
        "print(data.head())\n",
        "\n",
        "# Write code to display the last few rows of the dataset\n",
        "print(\"\\nLast few rows:\\n\")\n",
        "print(data.tail())\n",
        "\n",
        "\n",
        "# Write code to display the shape of the dataset (number of rows and columns)\n",
        "print(\"\\nShape of the dataset:\", data.shape)"
      ],
      "metadata": {
        "colab": {
          "base_uri": "https://localhost:8080/"
        },
        "id": "njDNKJE9xPV4",
        "outputId": "9f845f8f-cab3-4251-9daf-f788297352a0"
      },
      "execution_count": null,
      "outputs": [
        {
          "output_type": "stream",
          "name": "stdout",
          "text": [
            "Initial Dataset Info:\n",
            "\n",
            "<class 'pandas.core.frame.DataFrame'>\n",
            "RangeIndex: 891 entries, 0 to 890\n",
            "Data columns (total 15 columns):\n",
            " #   Column       Non-Null Count  Dtype   \n",
            "---  ------       --------------  -----   \n",
            " 0   survived     891 non-null    int64   \n",
            " 1   pclass       891 non-null    int64   \n",
            " 2   sex          891 non-null    object  \n",
            " 3   age          714 non-null    float64 \n",
            " 4   sibsp        891 non-null    int64   \n",
            " 5   parch        891 non-null    int64   \n",
            " 6   fare         891 non-null    float64 \n",
            " 7   embarked     889 non-null    object  \n",
            " 8   class        891 non-null    category\n",
            " 9   who          891 non-null    object  \n",
            " 10  adult_male   891 non-null    bool    \n",
            " 11  deck         203 non-null    category\n",
            " 12  embark_town  889 non-null    object  \n",
            " 13  alive        891 non-null    object  \n",
            " 14  alone        891 non-null    bool    \n",
            "dtypes: bool(2), category(2), float64(2), int64(4), object(5)\n",
            "memory usage: 80.7+ KB\n",
            "None\n",
            "\n",
            "First few rows:\n",
            "\n",
            "   survived  pclass     sex   age  sibsp  parch     fare embarked  class  \\\n",
            "0         0       3    male  22.0      1      0   7.2500        S  Third   \n",
            "1         1       1  female  38.0      1      0  71.2833        C  First   \n",
            "2         1       3  female  26.0      0      0   7.9250        S  Third   \n",
            "3         1       1  female  35.0      1      0  53.1000        S  First   \n",
            "4         0       3    male  35.0      0      0   8.0500        S  Third   \n",
            "\n",
            "     who  adult_male deck  embark_town alive  alone  \n",
            "0    man        True  NaN  Southampton    no  False  \n",
            "1  woman       False    C    Cherbourg   yes  False  \n",
            "2  woman       False  NaN  Southampton   yes   True  \n",
            "3  woman       False    C  Southampton   yes  False  \n",
            "4    man        True  NaN  Southampton    no   True  \n",
            "\n",
            "Last few rows:\n",
            "\n",
            "     survived  pclass     sex   age  sibsp  parch   fare embarked   class  \\\n",
            "886         0       2    male  27.0      0      0  13.00        S  Second   \n",
            "887         1       1  female  19.0      0      0  30.00        S   First   \n",
            "888         0       3  female   NaN      1      2  23.45        S   Third   \n",
            "889         1       1    male  26.0      0      0  30.00        C   First   \n",
            "890         0       3    male  32.0      0      0   7.75        Q   Third   \n",
            "\n",
            "       who  adult_male deck  embark_town alive  alone  \n",
            "886    man        True  NaN  Southampton    no   True  \n",
            "887  woman       False    B  Southampton   yes   True  \n",
            "888  woman       False  NaN  Southampton    no  False  \n",
            "889    man        True    C    Cherbourg   yes   True  \n",
            "890    man        True  NaN   Queenstown    no   True  \n",
            "\n",
            "Shape of the dataset: (891, 15)\n"
          ]
        }
      ]
    },
    {
      "cell_type": "markdown",
      "source": [
        "# 3. Check for missing values"
      ],
      "metadata": {
        "id": "13mSVNBXbruq"
      }
    },
    {
      "cell_type": "code",
      "source": [
        "# Write code to calculate the count of missing values in each column\n",
        "missing_values = data.isnull().sum()\n",
        "# Write code to calculate the percentage of missing values in each column\n",
        "total_rows = data.shape[0]\n",
        "missing_percentage = (missing_values / total_rows) * 100\n",
        "# Display missing values count and percentage\n",
        "print(\"\\nMissing Values Count:\\n\", missing_values)\n",
        "print(\"\\nMissing Values Percentage:\\n\", missing_percentage)\n"
      ],
      "metadata": {
        "colab": {
          "base_uri": "https://localhost:8080/"
        },
        "id": "FnsiZ2mQx72u",
        "outputId": "596a4cc0-39a1-4cd4-f214-48e0ff8bb43c"
      },
      "execution_count": null,
      "outputs": [
        {
          "output_type": "stream",
          "name": "stdout",
          "text": [
            "\n",
            "Missing Values Count:\n",
            " survived         0\n",
            "pclass           0\n",
            "sex              0\n",
            "age            177\n",
            "sibsp            0\n",
            "parch            0\n",
            "fare             0\n",
            "embarked         2\n",
            "class            0\n",
            "who              0\n",
            "adult_male       0\n",
            "deck           688\n",
            "embark_town      2\n",
            "alive            0\n",
            "alone            0\n",
            "dtype: int64\n",
            "\n",
            "Missing Values Percentage:\n",
            " survived        0.000000\n",
            "pclass          0.000000\n",
            "sex             0.000000\n",
            "age            19.865320\n",
            "sibsp           0.000000\n",
            "parch           0.000000\n",
            "fare            0.000000\n",
            "embarked        0.224467\n",
            "class           0.000000\n",
            "who             0.000000\n",
            "adult_male      0.000000\n",
            "deck           77.216611\n",
            "embark_town     0.224467\n",
            "alive           0.000000\n",
            "alone           0.000000\n",
            "dtype: float64\n"
          ]
        }
      ]
    },
    {
      "cell_type": "markdown",
      "source": [
        "# 4. Handle missing values"
      ],
      "metadata": {
        "id": "io-JQ4qTbwQC"
      }
    },
    {
      "cell_type": "code",
      "source": [
        "# 'Age': Replace missing values with the mean age\n",
        "if 'age' in data.columns:\n",
        "    data['age'].fillna(data['age'].mean(), inplace=True)\n",
        "\n",
        "# 'Embarked': Replace missing values with the mode (most frequent value)\n",
        "if 'embarked' in data.columns:\n",
        "    data['embarked'].fillna(data['embarked'].mode()[0], inplace=True)\n",
        "\n",
        "# 'Fare': Replace missing values with zero\n",
        "if 'fare' in data.columns:\n",
        "    data['fare'].fillna(0, inplace=True)\n",
        "\n",
        "# 'Deck': Add 'Unknown' as a new category and replace missing values with 'Unknown'\n",
        "if 'deck' in data.columns:\n",
        "    # Check if 'deck' is categorical and add 'Unknown' to the categories if needed\n",
        "    if isinstance(data['deck'].dtype, pd.CategoricalDtype):\n",
        "        data['deck'] = data['deck'].cat.add_categories(['Unknown'])\n",
        "    # Fill missing values with 'Unknown'\n",
        "    data['deck'].fillna('Unknown', inplace=True)\n",
        "\n",
        "# 'Embark_town': Replace missing values with the mode (most frequent value)\n",
        "if 'embark_town' in data.columns:\n",
        "    data['embark_town'].fillna(data['embark_town'].mode()[0], inplace=True)\n",
        "\n",
        "# Display missing values count after handling\n",
        "print(\"\\nMissing Values Count After Handling:\\n\", data.isnull().sum())\n",
        "\n",
        "# Calculate percentage of missing values after imputation\n",
        "missing_percentage_after = (data.isnull().sum() / total_rows) * 100\n",
        "print(\"\\nMissing Values Percentage After Handling:\\n\", missing_percentage_after)"
      ],
      "metadata": {
        "colab": {
          "base_uri": "https://localhost:8080/"
        },
        "id": "iWujWMnPyvc9",
        "outputId": "49a6b083-5571-4168-a84f-9d9d949300ef"
      },
      "execution_count": null,
      "outputs": [
        {
          "output_type": "stream",
          "name": "stdout",
          "text": [
            "\n",
            "Missing Values Count After Handling:\n",
            " survived       0\n",
            "pclass         0\n",
            "sex            0\n",
            "age            0\n",
            "sibsp          0\n",
            "parch          0\n",
            "fare           0\n",
            "embarked       0\n",
            "class          0\n",
            "who            0\n",
            "adult_male     0\n",
            "deck           0\n",
            "embark_town    0\n",
            "alive          0\n",
            "alone          0\n",
            "dtype: int64\n",
            "\n",
            "Missing Values Percentage After Handling:\n",
            " survived       0.0\n",
            "pclass         0.0\n",
            "sex            0.0\n",
            "age            0.0\n",
            "sibsp          0.0\n",
            "parch          0.0\n",
            "fare           0.0\n",
            "embarked       0.0\n",
            "class          0.0\n",
            "who            0.0\n",
            "adult_male     0.0\n",
            "deck           0.0\n",
            "embark_town    0.0\n",
            "alive          0.0\n",
            "alone          0.0\n",
            "dtype: float64\n"
          ]
        }
      ]
    },
    {
      "cell_type": "markdown",
      "source": [
        "# 5. Remove duplicates\n"
      ],
      "metadata": {
        "id": "yForiu1v3Ppe"
      }
    },
    {
      "cell_type": "code",
      "source": [
        "# Write code for - Removing duplicates ensures that each entry in the dataset is unique.\n",
        "initial_row_count = len(data)  # Store the initial count\n",
        "data.drop_duplicates(inplace=True)  # Remove duplicates\n",
        "final_row_count = len(data)  # Store the count after duplicates removed\n",
        "\n",
        "# Display the number of rows before and after removing duplicates\n",
        "print(f\"\\nDuplicates removed. Number of rows now: {final_row_count} (initially {initial_row_count})\")\n",
        "\n",
        "# Display missing values count after handling\n",
        "print(\"\\nMissing Values Count After Handling:\\n\", data.isnull().sum())\n",
        "\n",
        "# Calculate percentage of missing values after imputation\n",
        "missing_percentage_after = (data.isnull().sum() / len(data)) * 100\n",
        "print(\"\\nMissing Values Percentage After Handling:\\n\", missing_percentage_after)"
      ],
      "metadata": {
        "colab": {
          "base_uri": "https://localhost:8080/"
        },
        "id": "tKKuKW0m3WxE",
        "outputId": "e2df529f-3680-4676-9ccc-196b2e091dd1"
      },
      "execution_count": null,
      "outputs": [
        {
          "output_type": "stream",
          "name": "stdout",
          "text": [
            "\n",
            "Duplicates removed. Number of rows now: 784 (initially 891)\n",
            "\n",
            "Missing Values Count After Handling:\n",
            " survived       0\n",
            "pclass         0\n",
            "sex            0\n",
            "age            0\n",
            "sibsp          0\n",
            "parch          0\n",
            "fare           0\n",
            "embarked       0\n",
            "class          0\n",
            "who            0\n",
            "adult_male     0\n",
            "deck           0\n",
            "embark_town    0\n",
            "alive          0\n",
            "alone          0\n",
            "dtype: int64\n",
            "\n",
            "Missing Values Percentage After Handling:\n",
            " survived       0.0\n",
            "pclass         0.0\n",
            "sex            0.0\n",
            "age            0.0\n",
            "sibsp          0.0\n",
            "parch          0.0\n",
            "fare           0.0\n",
            "embarked       0.0\n",
            "class          0.0\n",
            "who            0.0\n",
            "adult_male     0.0\n",
            "deck           0.0\n",
            "embark_town    0.0\n",
            "alive          0.0\n",
            "alone          0.0\n",
            "dtype: float64\n"
          ]
        }
      ]
    },
    {
      "cell_type": "markdown",
      "source": [
        "# 6. Correct Data Types"
      ],
      "metadata": {
        "id": "uIaq6y6i3nMF"
      }
    },
    {
      "cell_type": "code",
      "source": [
        "# Explanation: Ensuring correct data types helps in proper analysis and computation.\n",
        "data = data.copy()  # Create a copy to avoid SettingWithCopyWarning\n",
        "\n",
        "# Convert 'age' and 'fare' to float\n",
        "if 'age' in data.columns:\n",
        "    data['age'] = data['age'].astype(float)\n",
        "\n",
        "if 'fare' in data.columns:\n",
        "    data['fare'] = data['fare'].astype(float)\n",
        "\n",
        "# Convert 'sex' and 'embarked' to categorical\n",
        "if 'sex' in data.columns:\n",
        "    data['sex'] = data['sex'].astype('category')\n",
        "\n",
        "if 'embarked' in data.columns:\n",
        "    data['embarked'] = data['embarked'].astype('category')\n",
        "\n",
        "# Display data types after conversion\n",
        "print(\"\\nData Types After Conversion:\\n\", data.dtypes)\n",
        "\n",
        "# Display missing values count after handling\n",
        "print(\"\\nMissing Values Count After Handling:\\n\", data.isnull().sum())\n",
        "\n",
        "# Calculate percentage of missing values after imputation\n",
        "missing_percentage_after = (data.isnull().sum() / len(data)) * 100\n",
        "print(\"\\nMissing Values Percentage After Handling:\\n\", missing_percentage_after)\n",
        "\n"
      ],
      "metadata": {
        "colab": {
          "base_uri": "https://localhost:8080/"
        },
        "id": "d4rLnTdT3ruD",
        "outputId": "3ea5395d-1794-42cf-c8c3-d6ca4e4cc8ff"
      },
      "execution_count": null,
      "outputs": [
        {
          "output_type": "stream",
          "name": "stdout",
          "text": [
            "\n",
            "Data Types After Conversion:\n",
            " survived          int64\n",
            "pclass            int64\n",
            "sex            category\n",
            "age             float64\n",
            "sibsp             int64\n",
            "parch             int64\n",
            "fare            float64\n",
            "embarked       category\n",
            "class          category\n",
            "who              object\n",
            "adult_male         bool\n",
            "deck           category\n",
            "embark_town      object\n",
            "alive            object\n",
            "alone              bool\n",
            "dtype: object\n",
            "\n",
            "Missing Values Count After Handling:\n",
            " survived       0\n",
            "pclass         0\n",
            "sex            0\n",
            "age            0\n",
            "sibsp          0\n",
            "parch          0\n",
            "fare           0\n",
            "embarked       0\n",
            "class          0\n",
            "who            0\n",
            "adult_male     0\n",
            "deck           0\n",
            "embark_town    0\n",
            "alive          0\n",
            "alone          0\n",
            "dtype: int64\n",
            "\n",
            "Missing Values Percentage After Handling:\n",
            " survived       0.0\n",
            "pclass         0.0\n",
            "sex            0.0\n",
            "age            0.0\n",
            "sibsp          0.0\n",
            "parch          0.0\n",
            "fare           0.0\n",
            "embarked       0.0\n",
            "class          0.0\n",
            "who            0.0\n",
            "adult_male     0.0\n",
            "deck           0.0\n",
            "embark_town    0.0\n",
            "alive          0.0\n",
            "alone          0.0\n",
            "dtype: float64\n"
          ]
        }
      ]
    },
    {
      "cell_type": "markdown",
      "source": [
        "#  7. Normalize or Standardize the Data"
      ],
      "metadata": {
        "id": "SitTuDss6gZo"
      }
    },
    {
      "cell_type": "code",
      "source": [
        "scaler = StandardScaler()\n",
        "\n",
        "# Standardize the 'age' and 'fare' columns\n",
        "data[['age', 'fare']] = scaler.fit_transform(data[['age', 'fare']])\n",
        "\n",
        "# Display the first few rows of the standardized dataset\n",
        "print(\"\\nFirst few rows after standardization:\\n\", data[['age', 'fare']].head())\n",
        "\n",
        "# Display missing values count after handling\n",
        "print(\"\\nMissing Values Count After Handling:\\n\", data.isnull().sum())\n",
        "\n",
        "# Calculate percentage of missing values after imputation\n",
        "missing_percentage_after = (data.isnull().sum() / len(data)) * 100\n",
        "print(\"\\nMissing Values Percentage After Handling:\\n\", missing_percentage_after)"
      ],
      "metadata": {
        "id": "3cbJ8lHv6on5",
        "outputId": "756dfc30-1e7f-4096-881b-3728488e6274",
        "colab": {
          "base_uri": "https://localhost:8080/"
        }
      },
      "execution_count": null,
      "outputs": [
        {
          "output_type": "stream",
          "name": "stdout",
          "text": [
            "\n",
            "First few rows after standardization:\n",
            "         age      fare\n",
            "0 -0.572094 -0.526825\n",
            "1  0.594502  0.701587\n",
            "2 -0.280445 -0.513876\n",
            "3  0.375765  0.352760\n",
            "4  0.375765 -0.511478\n",
            "\n",
            "Missing Values Count After Handling:\n",
            " survived       0\n",
            "pclass         0\n",
            "sex            0\n",
            "age            0\n",
            "sibsp          0\n",
            "parch          0\n",
            "fare           0\n",
            "embarked       0\n",
            "class          0\n",
            "who            0\n",
            "adult_male     0\n",
            "deck           0\n",
            "embark_town    0\n",
            "alive          0\n",
            "alone          0\n",
            "dtype: int64\n",
            "\n",
            "Missing Values Percentage After Handling:\n",
            " survived       0.0\n",
            "pclass         0.0\n",
            "sex            0.0\n",
            "age            0.0\n",
            "sibsp          0.0\n",
            "parch          0.0\n",
            "fare           0.0\n",
            "embarked       0.0\n",
            "class          0.0\n",
            "who            0.0\n",
            "adult_male     0.0\n",
            "deck           0.0\n",
            "embark_town    0.0\n",
            "alive          0.0\n",
            "alone          0.0\n",
            "dtype: float64\n"
          ]
        }
      ]
    },
    {
      "cell_type": "markdown",
      "source": [
        "# 8. Create new Features"
      ],
      "metadata": {
        "id": "gXXeesOmY3qQ"
      }
    },
    {
      "cell_type": "code",
      "source": [
        "# Feature engineering: Create 'family_size' feature\n",
        "if 'sibsp' in data.columns and 'parch' in data.columns:\n",
        "    data['family_size'] = data['sibsp'] + data['parch'] + 1\n",
        "    print(\"\\nNew Feature 'family_size' created successfully!\")\n",
        "else:\n",
        "    print(\"\\nColumns 'sibsp' and/or 'parch' not found!\")\n",
        "\n",
        "# Display the first few rows to check the new feature\n",
        "print(\"\\nFirst few rows with the new 'family_size' feature:\\n\", data[['sibsp', 'parch', 'family_size']].head())\n"
      ],
      "metadata": {
        "colab": {
          "base_uri": "https://localhost:8080/"
        },
        "id": "9uPUpIKwY-Z-",
        "outputId": "695e5e56-f132-4ddb-f1d2-039066b517af"
      },
      "execution_count": null,
      "outputs": [
        {
          "output_type": "stream",
          "name": "stdout",
          "text": [
            "\n",
            "New Feature 'family_size' created successfully!\n",
            "\n",
            "First few rows with the new 'family_size' feature:\n",
            "    sibsp  parch  family_size\n",
            "0      1      0            2\n",
            "1      1      0            2\n",
            "2      0      0            1\n",
            "3      1      0            2\n",
            "4      0      0            1\n"
          ]
        }
      ]
    },
    {
      "cell_type": "markdown",
      "source": [
        "# 9. Aggregation\n"
      ],
      "metadata": {
        "id": "9Aut_e9Ycchf"
      }
    },
    {
      "cell_type": "code",
      "source": [
        "# Group by 'pclass' and calculate the mean of 'age' and 'fare'\n",
        "if 'pclass' in data.columns and 'age' in data.columns and 'fare' in data.columns:\n",
        "    agg_data = data.groupby('pclass')[['age', 'fare']].mean()\n",
        "    print(\"\\nAggregated Data by Pclass (mean of 'age' and 'fare'):\\n\", agg_data)\n",
        "else:\n",
        "    print(\"\\nRequired columns 'pclass', 'age', and/or 'fare' not found in the dataset!\")\n"
      ],
      "metadata": {
        "colab": {
          "base_uri": "https://localhost:8080/"
        },
        "id": "Tzab73Jice7s",
        "outputId": "22bbff73-07f0-427d-943a-36fb5497466a"
      },
      "execution_count": null,
      "outputs": [
        {
          "output_type": "stream",
          "name": "stdout",
          "text": [
            "\n",
            "Aggregated Data by Pclass (mean of 'age' and 'fare'):\n",
            "              age      fare\n",
            "pclass                    \n",
            "1       0.532048  0.954902\n",
            "2       0.003261 -0.247019\n",
            "3      -0.282460 -0.403928\n"
          ]
        }
      ]
    },
    {
      "cell_type": "markdown",
      "source": [
        "# 10. Outlier detection and removal"
      ],
      "metadata": {
        "id": "6G05f3JmciRr"
      }
    },
    {
      "cell_type": "code",
      "source": [
        "# Explanation: Detecting and removing outliers helps improve the quality of the data.\n",
        "\n",
        "# Plotting boxplot to detect outliers in 'fare'\n",
        "plt.figure(figsize=(8,6))\n",
        "sns.boxplot(x=data['fare'])\n",
        "plt.title(\"Boxplot of 'Fare' to Detect Outliers\")\n",
        "plt.show()\n",
        "\n",
        "# Removing outliers where 'Fare' is greater than 200\n",
        "data = data[data['fare'] < 200]\n",
        "print(\"\\nOutliers removed based on Fare > 200.\\n\")\n",
        "\n",
        "# Displaying the shape of the dataset after removing outliers\n",
        "print(\"Dataset shape after removing outliers:\", data.shape)"
      ],
      "metadata": {
        "colab": {
          "base_uri": "https://localhost:8080/",
          "height": 620
        },
        "id": "IU3NYG28cnAP",
        "outputId": "5621db50-7894-44ef-f4bd-3dcabc5f3149"
      },
      "execution_count": null,
      "outputs": [
        {
          "output_type": "display_data",
          "data": {
            "text/plain": [
              "<Figure size 800x600 with 1 Axes>"
            ],
            "image/png": "[encoded data removed]"
          },
          "metadata": {}
        },
        {
          "output_type": "stream",
          "name": "stdout",
          "text": [
            "\n",
            "Outliers removed based on Fare > 200.\n",
            "\n",
            "Dataset shape after removing outliers: (784, 16)\n"
          ]
        }
      ]
    },
    {
      "cell_type": "markdown",
      "source": [
        "# 11. Seperate Numirical and Categorical values"
      ],
      "metadata": {
        "id": "XhIYh9Chc06i"
      }
    },
    {
      "cell_type": "code",
      "source": [
        "# Separate numerical and categorical features\n",
        "numerical_features = data.select_dtypes(include=['float64', 'int64'])\n",
        "categorical_features = data.select_dtypes(include=['object', 'category', 'bool'])\n",
        "\n",
        "# Display the first few rows of numerical and categorical features\n",
        "print(\"\\nNumerical Features:\\n\", numerical_features.head())\n",
        "print(\"\\nCategorical Features:\\n\", categorical_features.head())\n"
      ],
      "metadata": {
        "colab": {
          "base_uri": "https://localhost:8080/"
        },
        "id": "j7ZoC4vzc54q",
        "outputId": "7501c2d6-3d2b-4ec6-f924-c2a4fcf1966a"
      },
      "execution_count": null,
      "outputs": [
        {
          "output_type": "stream",
          "name": "stdout",
          "text": [
            "\n",
            "Numerical Features:\n",
            "    survived  pclass       age  sibsp  parch      fare  family_size\n",
            "0         0       3 -0.572094      1      0 -0.526825            2\n",
            "1         1       1  0.594502      1      0  0.701587            2\n",
            "2         1       3 -0.280445      0      0 -0.513876            1\n",
            "3         1       1  0.375765      1      0  0.352760            2\n",
            "4         0       3  0.375765      0      0 -0.511478            1\n",
            "\n",
            "Categorical Features:\n",
            "       sex embarked  class    who  adult_male     deck  embark_town alive  \\\n",
            "0    male        S  Third    man        True  Unknown  Southampton    no   \n",
            "1  female        C  First  woman       False        C    Cherbourg   yes   \n",
            "2  female        S  Third  woman       False  Unknown  Southampton   yes   \n",
            "3  female        S  First  woman       False        C  Southampton   yes   \n",
            "4    male        S  Third    man        True  Unknown  Southampton    no   \n",
            "\n",
            "   alone  \n",
            "0  False  \n",
            "1  False  \n",
            "2   True  \n",
            "3  False  \n",
            "4   True  \n"
          ]
        }
      ]
    },
    {
      "cell_type": "markdown",
      "source": [
        "# 12. Data Visualization"
      ],
      "metadata": {
        "id": "WHnFkZ2xdB0x"
      }
    },
    {
      "cell_type": "code",
      "source": [
        "# Univariate Analysis: Age and Fare Distribution\n",
        "plt.figure(figsize=(8,6))\n",
        "sns.histplot(data['age'], kde=True, bins=20)\n",
        "plt.title(\"Standardized Age Distribution\")\n",
        "plt.show()\n",
        "\n",
        "plt.figure(figsize=(8,6))\n",
        "sns.histplot(data['fare'], kde=True, bins=20)\n",
        "plt.title(\"Standardized Fare Distribution\")\n",
        "plt.show()\n",
        "\n",
        "# Bivariate Analysis: Scatterplot of Age vs Fare\n",
        "plt.figure(figsize=(8,6))\n",
        "sns.scatterplot(x=data['age'], y=data['fare'])\n",
        "plt.title(\"Age vs Fare\")\n",
        "plt.show()\n",
        "\n",
        "# Heatmap to show correlation between numerical features\n",
        "plt.figure(figsize=(10, 8))\n",
        "sns.heatmap(data[['age', 'fare', 'sibsp', 'parch', 'family_size']].corr(), annot=True, cmap='coolwarm')\n",
        "plt.title(\"Heatmap of Correlation Between Features\")\n",
        "plt.show()\n",
        "\n",
        "# Boxplot of 'Pclass' vs 'Fare'\n",
        "plt.figure(figsize=(8,6))\n",
        "sns.boxplot(x='pclass', y='fare', data=data)\n",
        "plt.title('Boxplot of Pclass vs Fare')\n",
        "plt.show()\n"
      ],
      "metadata": {
        "colab": {
          "base_uri": "https://localhost:8080/",
          "height": 1000
        },
        "id": "_WFb3aL-dBeE",
        "outputId": "b1efb1ab-ccaf-46e1-902b-94eb4906e371"
      },
      "execution_count": null,
      "outputs": [
        {
          "output_type": "display_data",
          "data": {
            "text/plain": [
              "<Figure size 800x600 with 1 Axes>"
            ],
            "image/png": "[encoded data removed]"
          },
          "metadata": {}
        },
        {
          "output_type": "display_data",
          "data": {
            "text/plain": [
              "<Figure size 800x600 with 1 Axes>"
            ],
            "image/png": "[encoded data removed]"
          },
          "metadata": {}
        },
        {
          "output_type": "display_data",
          "data": {
            "text/plain": [
              "<Figure size 800x600 with 1 Axes>"
            ],
            "image/png": "[encoded data removed]"
          },
          "metadata": {}
        },
        {
          "output_type": "display_data",
          "data": {
            "text/plain": [
              "<Figure size 1000x800 with 2 Axes>"
            ],
            "image/png": "[encoded data removed]"
          },
          "metadata": {}
        },
        {
          "output_type": "display_data",
          "data": {
            "text/plain": [
              "<Figure size 800x600 with 1 Axes>"
            ],
            "image/png": "[encoded data removed]"
          },
          "metadata": {}
        }
      ]
    },
    {
      "cell_type": "markdown",
      "source": [
        "# 13. Descriptive Statistics"
      ],
      "metadata": {
        "id": "MFQeFPRpdn8n"
      }
    },
    {
      "cell_type": "code",
      "source": [
        "# Central Tendency for 'age' and 'fare'\n",
        "mean_age = data['age'].mean()\n",
        "median_age = data['age'].median()\n",
        "mode_age = data['age'].mode()[0]\n",
        "\n",
        "mean_fare = data['fare'].mean()\n",
        "median_fare = data['fare'].median()\n",
        "mode_fare = data['fare'].mode()[0]\n",
        "\n",
        "print(f\"\\nMean Age: {mean_age}, Median Age: {median_age}, Mode Age: {mode_age}\")\n",
        "print(f\"Mean Fare: {mean_fare}, Median Fare: {median_fare}, Mode Fare: {mode_fare}\")\n",
        "\n",
        "# Measures of Dispersion for 'age' and 'fare'\n",
        "range_age = data['age'].max() - data['age'].min()\n",
        "variance_age = data['age'].var()\n",
        "std_dev_age = data['age'].std()\n",
        "\n",
        "range_fare = data['fare'].max() - data['fare'].min()\n",
        "variance_fare = data['fare'].var()\n",
        "std_dev_fare = data['fare'].std()\n",
        "\n",
        "print(f\"\\nAge - Range: {range_age}, Variance: {variance_age}, Std Dev: {std_dev_age}\")\n",
        "print(f\"Fare - Range: {range_fare}, Variance: {variance_fare}, Std Dev: {std_dev_fare}\")\n",
        "\n",
        "# Summary of the data (Descriptive Statistics)\n",
        "print(\"\\nSummary Statistics:\\n\", data.describe())"
      ],
      "metadata": {
        "colab": {
          "base_uri": "https://localhost:8080/"
        },
        "id": "XXnfaES1dqrF",
        "outputId": "f1df7fc8-9fd1-4bf3-da0c-662cc38cc65e"
      },
      "execution_count": null,
      "outputs": [
        {
          "output_type": "stream",
          "name": "stdout",
          "text": [
            "\n",
            "Mean Age: -6.344131569286608e-17, Median Age: -0.010733935207013273, Mode Age: -0.010733935207013273\n",
            "Mean Fare: -6.910571887972913e-17, Median Fare: -0.36088370160204797, Mode Fare: -0.41651719181059965\n",
            "\n",
            "Age - Range: 5.802358217419577, Variance: 1.0012771392081738, Std Dev: 1.0006383658486087\n",
            "Fare - Range: 9.82850397646729, Variance: 1.0012771392081738, Std Dev: 1.0006383658486087\n",
            "\n",
            "Summary Statistics:\n",
            "          survived      pclass           age       sibsp       parch  \\\n",
            "count  784.000000  784.000000  7.840000e+02  784.000000  784.000000   \n",
            "mean     0.411990    2.243622 -6.344132e-17    0.522959    0.415816   \n",
            "std      0.492507    0.855056  1.000638e+00    0.986231    0.836922   \n",
            "min      0.000000    1.000000 -2.145541e+00    0.000000    0.000000   \n",
            "25%      0.000000    1.000000 -5.720941e-01    0.000000    0.000000   \n",
            "50%      0.000000    3.000000 -1.073394e-02    0.000000    0.000000   \n",
            "75%      1.000000    3.000000  4.486777e-01    1.000000    1.000000   \n",
            "max      1.000000    3.000000  3.656817e+00    8.000000    6.000000   \n",
            "\n",
            "               fare  family_size  \n",
            "count  7.840000e+02   784.000000  \n",
            "mean  -6.910572e-17     1.938776  \n",
            "std    1.000638e+00     1.517485  \n",
            "min   -6.659087e-01     1.000000  \n",
            "25%   -5.114778e-01     1.000000  \n",
            "50%   -3.608837e-01     1.000000  \n",
            "75%   -1.155622e-02     2.000000  \n",
            "max    9.162595e+00    11.000000  \n"
          ]
        }
      ]
    },
    {
      "cell_type": "markdown",
      "source": [
        "# Linear Regression"
      ],
      "metadata": {
        "id": "W11kpX53d8EL"
      }
    },
    {
      "cell_type": "markdown",
      "source": [
        "# 1. Load libraries"
      ],
      "metadata": {
        "id": "4TzA_CNceW34"
      }
    },
    {
      "cell_type": "code",
      "source": [
        "# Importing necessary libraries\n",
        "import pandas as pd\n",
        "import numpy as np\n",
        "from sklearn.model_selection import train_test_split, cross_val_score\n",
        "from sklearn.linear_model import LinearRegression\n",
        "from sklearn.metrics import mean_squared_error, r2_score, mean_absolute_error\n",
        "from sklearn.preprocessing import StandardScaler\n",
        "import matplotlib.pyplot as plt\n",
        "\n",
        "data = sns.load_dataset('titanic')"
      ],
      "metadata": {
        "id": "TG3wCZzVd_EH"
      },
      "execution_count": null,
      "outputs": []
    },
    {
      "cell_type": "markdown",
      "source": [
        "# 2. Check Column Names"
      ],
      "metadata": {
        "id": "3NLLjgqweUBd"
      }
    },
    {
      "cell_type": "code",
      "source": [
        "# Check the column names in the dataset\n",
        "print(\"Columns in the dataset:\", data.columns)\n"
      ],
      "metadata": {
        "colab": {
          "base_uri": "https://localhost:8080/"
        },
        "id": "SmN2c8pXeZuM",
        "outputId": "01db3480-c11d-4e2f-d382-fcb8fbe7513d"
      },
      "execution_count": null,
      "outputs": [
        {
          "output_type": "stream",
          "name": "stdout",
          "text": [
            "Columns in the dataset: Index(['survived', 'pclass', 'sex', 'age', 'sibsp', 'parch', 'fare',\n",
            "       'embarked', 'class', 'who', 'adult_male', 'deck', 'embark_town',\n",
            "       'alive', 'alone'],\n",
            "      dtype='object')\n"
          ]
        }
      ]
    },
    {
      "cell_type": "markdown",
      "source": [
        "# 3. Drop Irrelevant Columns"
      ],
      "metadata": {
        "id": "e2RcJyd7emqJ"
      }
    },
    {
      "cell_type": "code",
      "source": [
        "# Dropping irrelevant columns from the dataset\n",
        "# Since we are predicting 'fare', 'survived', 'who', 'alive', and 'alone' may not be relevant for this prediction task.\n",
        "data_cleaned = data.drop(columns=['survived', 'who', 'alive', 'alone'])\n",
        "\n",
        "# Check the updated columns after dropping irrelevant ones\n",
        "print(\"Features in the dataset after dropping irrelevant columns:\\n\", data_cleaned.columns)\n"
      ],
      "metadata": {
        "colab": {
          "base_uri": "https://localhost:8080/"
        },
        "id": "ll0lr83zfATZ",
        "outputId": "4dcc69b6-d586-4a49-9d6b-aadbdb5f011e"
      },
      "execution_count": null,
      "outputs": [
        {
          "output_type": "stream",
          "name": "stdout",
          "text": [
            "Features in the dataset after dropping irrelevant columns:\n",
            " Index(['pclass', 'sex', 'age', 'sibsp', 'parch', 'fare', 'embarked', 'class',\n",
            "       'adult_male', 'deck', 'embark_town'],\n",
            "      dtype='object')\n"
          ]
        }
      ]
    },
    {
      "cell_type": "markdown",
      "source": [
        "# 4. Define Features"
      ],
      "metadata": {
        "id": "jYqrVQINepjM"
      }
    },
    {
      "cell_type": "code",
      "source": [
        "# Define numerical and categorical features\n",
        "numerical_features = ['age', 'sibsp', 'parch', 'family_size']\n",
        "categorical_features = ['sex', 'embarked', 'class', 'adult_male', 'deck', 'embark_town', 'pclass']\n",
        "\n",
        "# Display numerical and categorical features\n",
        "print(\"Numerical Features:\", numerical_features)\n",
        "print(\"Categorical Features:\", categorical_features)"
      ],
      "metadata": {
        "colab": {
          "base_uri": "https://localhost:8080/"
        },
        "id": "0EGM0lF2fQbN",
        "outputId": "3da6ae6a-2139-4c93-a030-0823745b3342"
      },
      "execution_count": null,
      "outputs": [
        {
          "output_type": "stream",
          "name": "stdout",
          "text": [
            "Numerical Features: ['age', 'sibsp', 'parch', 'family_size']\n",
            "Categorical Features: ['sex', 'embarked', 'class', 'adult_male', 'deck', 'embark_town', 'pclass']\n"
          ]
        }
      ]
    },
    {
      "cell_type": "markdown",
      "source": [
        "# 5. Prepate Features and Target Variable"
      ],
      "metadata": {
        "id": "ip1AXMSrerUl"
      }
    },
    {
      "cell_type": "code",
      "source": [
        "# Separate features (X) and target variable (y)\n",
        "X = data_cleaned.drop('fare', axis=1)  # Dropping 'fare' column from features\n",
        "y = data_cleaned['fare']  # Target variable 'fare'\n",
        "\n",
        "# Display the shape of features and target variable\n",
        "print(\"Shape of X (features):\", X.shape)\n",
        "print(\"Shape of y (target):\", y.shape)\n"
      ],
      "metadata": {
        "colab": {
          "base_uri": "https://localhost:8080/"
        },
        "id": "qAxQzzV-fWNi",
        "outputId": "3961f2c7-c68c-4a1f-b251-b603d8cc61c6"
      },
      "execution_count": null,
      "outputs": [
        {
          "output_type": "stream",
          "name": "stdout",
          "text": [
            "Shape of X (features): (891, 10)\n",
            "Shape of y (target): (891,)\n"
          ]
        }
      ]
    },
    {
      "cell_type": "markdown",
      "source": [
        "# 6. Handle Categorical Variables and Standardize Numerical Features"
      ],
      "metadata": {
        "id": "LFOgWRBRewJu"
      }
    },
    {
      "cell_type": "code",
      "source": [
        "# Handle categorical variables by one-hot encoding\n",
        "X = pd.get_dummies(X, drop_first=True)\n",
        "\n",
        "# Recalculate 'family_size' after one-hot encoding (if needed)\n",
        "# X['family_size'] = X['sibsp'] + X['parch'] + 1\n",
        "\n",
        "# Standardize the numerical features\n",
        "# StandardScaler will normalize numerical features to have a mean of 0 and a standard deviation of 1\n",
        "scaler = StandardScaler()\n",
        "numerical_features = ['age', 'sibsp', 'parch']  # List of numerical features to be standardized\n",
        "X[numerical_features] = scaler.fit_transform(X[numerical_features])"
      ],
      "metadata": {
        "id": "C-_vyWwXfi3w"
      },
      "execution_count": null,
      "outputs": []
    },
    {
      "cell_type": "markdown",
      "source": [
        "# 7. Split Dataset"
      ],
      "metadata": {
        "id": "KHH4NjOPe0J6"
      }
    },
    {
      "cell_type": "code",
      "source": [
        "# Split the dataset into training and testing sets\n",
        "# 80% of the data will be used for training, and 20% for testing\n",
        "X_train, X_test, y_train, y_test = train_test_split(X, y, test_size=0.2, random_state=42)"
      ],
      "metadata": {
        "id": "GKitvGaefjVW"
      },
      "execution_count": null,
      "outputs": []
    },
    {
      "cell_type": "markdown",
      "source": [
        "#8. Initialize and train the model"
      ],
      "metadata": {
        "id": "_Glc-faAe3Xz"
      }
    },
    {
      "cell_type": "markdown",
      "source": [
        "## Checking for NaN values, Handling missing values and then fitting model in next code section"
      ],
      "metadata": {
        "id": "MAwDYnR9hf1U"
      }
    },
    {
      "cell_type": "code",
      "source": [
        "# Check for NaN values in the training and testing sets\n",
        "print(\"Missing values in X_train:\\n\", X_train.isnull().sum())\n",
        "print(\"Missing values in X_test:\\n\", X_test.isnull().sum())\n",
        "\n",
        "X_train.dropna(inplace=True)\n",
        "y_train = y_train[X_train.index]  # Align y_train with X_train after dropping\n",
        "\n",
        "from sklearn.impute import SimpleImputer\n",
        "\n",
        "# Create an imputer for filling missing values with the mean\n",
        "imputer = SimpleImputer(strategy='mean')\n",
        "\n",
        "# Fit and transform the training set\n",
        "X_train[numerical_features] = imputer.fit_transform(X_train[numerical_features])\n",
        "\n",
        "# Transform the test set (use the same imputer to maintain consistency)\n",
        "X_test[numerical_features] = imputer.transform(X_test[numerical_features])\n"
      ],
      "metadata": {
        "colab": {
          "base_uri": "https://localhost:8080/"
        },
        "id": "WI6mh-ZPhF7M",
        "outputId": "fb8faee0-7526-485f-8895-c056cad515cb"
      },
      "execution_count": null,
      "outputs": [
        {
          "output_type": "stream",
          "name": "stdout",
          "text": [
            "Missing values in X_train:\n",
            " pclass                       0\n",
            "age                        140\n",
            "sibsp                        0\n",
            "parch                        0\n",
            "adult_male                   0\n",
            "sex_male                     0\n",
            "embarked_Q                   0\n",
            "embarked_S                   0\n",
            "class_Second                 0\n",
            "class_Third                  0\n",
            "deck_B                       0\n",
            "deck_C                       0\n",
            "deck_D                       0\n",
            "deck_E                       0\n",
            "deck_F                       0\n",
            "deck_G                       0\n",
            "embark_town_Queenstown       0\n",
            "embark_town_Southampton      0\n",
            "dtype: int64\n",
            "Missing values in X_test:\n",
            " pclass                      0\n",
            "age                        37\n",
            "sibsp                       0\n",
            "parch                       0\n",
            "adult_male                  0\n",
            "sex_male                    0\n",
            "embarked_Q                  0\n",
            "embarked_S                  0\n",
            "class_Second                0\n",
            "class_Third                 0\n",
            "deck_B                      0\n",
            "deck_C                      0\n",
            "deck_D                      0\n",
            "deck_E                      0\n",
            "deck_F                      0\n",
            "deck_G                      0\n",
            "embark_town_Queenstown      0\n",
            "embark_town_Southampton     0\n",
            "dtype: int64\n"
          ]
        }
      ]
    },
    {
      "cell_type": "code",
      "source": [
        "# Initialize the Linear Regression model\n",
        "model = LinearRegression()\n",
        "\n",
        "# Fit the model on the training data\n",
        "model.fit(X_train, y_train)\n",
        "\n",
        "\n"
      ],
      "metadata": {
        "colab": {
          "base_uri": "https://localhost:8080/",
          "height": 81
        },
        "id": "4JZbol43fj63",
        "outputId": "62e8429f-6267-4f40-88e9-c5db69d96473"
      },
      "execution_count": null,
      "outputs": [
        {
          "output_type": "execute_result",
          "data": {
            "text/plain": [
              "LinearRegression()"
            ],
            "text/html": [
              "<style>#sk-container-id-1 {\n",
              "  /* Definition of color scheme common for light and dark mode */\n",
              "  --sklearn-color-text: black;\n",
              "  --sklearn-color-line: gray;\n",
              "  /* Definition of color scheme for unfitted estimators */\n",
              "  --sklearn-color-unfitted-level-0: #fff5e6;\n",
              "  --sklearn-color-unfitted-level-1: #f6e4d2;\n",
              "  --sklearn-color-unfitted-level-2: #ffe0b3;\n",
              "  --sklearn-color-unfitted-level-3: chocolate;\n",
              "  /* Definition of color scheme for fitted estimators */\n",
              "  --sklearn-color-fitted-level-0: #f0f8ff;\n",
              "  --sklearn-color-fitted-level-1: #d4ebff;\n",
              "  --sklearn-color-fitted-level-2: #b3dbfd;\n",
              "  --sklearn-color-fitted-level-3: cornflowerblue;\n",
              "\n",
              "  /* Specific color for light theme */\n",
              "  --sklearn-color-text-on-default-background: var(--sg-text-color, var(--theme-code-foreground, var(--jp-content-font-color1, black)));\n",
              "  --sklearn-color-background: var(--sg-background-color, var(--theme-background, var(--jp-layout-color0, white)));\n",
              "  --sklearn-color-border-box: var(--sg-text-color, var(--theme-code-foreground, var(--jp-content-font-color1, black)));\n",
              "  --sklearn-color-icon: #696969;\n",
              "\n",
              "  @media (prefers-color-scheme: dark) {\n",
              "    /* Redefinition of color scheme for dark theme */\n",
              "    --sklearn-color-text-on-default-background: var(--sg-text-color, var(--theme-code-foreground, var(--jp-content-font-color1, white)));\n",
              "    --sklearn-color-background: var(--sg-background-color, var(--theme-background, var(--jp-layout-color0, #111)));\n",
              "    --sklearn-color-border-box: var(--sg-text-color, var(--theme-code-foreground, var(--jp-content-font-color1, white)));\n",
              "    --sklearn-color-icon: #878787;\n",
              "  }\n",
              "}\n",
              "\n",
              "#sk-container-id-1 {\n",
              "  color: var(--sklearn-color-text);\n",
              "}\n",
              "\n",
              "#sk-container-id-1 pre {\n",
              "  padding: 0;\n",
              "}\n",
              "\n",
              "#sk-container-id-1 input.sk-hidden--visually {\n",
              "  border: 0;\n",
              "  clip: rect(1px 1px 1px 1px);\n",
              "  clip: rect(1px, 1px, 1px, 1px);\n",
              "  height: 1px;\n",
              "  margin: -1px;\n",
              "  overflow: hidden;\n",
              "  padding: 0;\n",
              "  position: absolute;\n",
              "  width: 1px;\n",
              "}\n",
              "\n",
              "#sk-container-id-1 div.sk-dashed-wrapped {\n",
              "  border: 1px dashed var(--sklearn-color-line);\n",
              "  margin: 0 0.4em 0.5em 0.4em;\n",
              "  box-sizing: border-box;\n",
              "  padding-bottom: 0.4em;\n",
              "  background-color: var(--sklearn-color-background);\n",
              "}\n",
              "\n",
              "#sk-container-id-1 div.sk-container {\n",
              "  /* jupyter's `normalize.less` sets `[hidden] { display: none; }`\n",
              "     but bootstrap.min.css set `[hidden] { display: none !important; }`\n",
              "     so we also need the `!important` here to be able to override the\n",
              "     default hidden behavior on the sphinx rendered scikit-learn.org.\n",
              "     See: https://github.com/scikit-learn/scikit-learn/issues/21755 */\n",
              "  display: inline-block !important;\n",
              "  position: relative;\n",
              "}\n",
              "\n",
              "#sk-container-id-1 div.sk-text-repr-fallback {\n",
              "  display: none;\n",
              "}\n",
              "\n",
              "div.sk-parallel-item,\n",
              "div.sk-serial,\n",
              "div.sk-item {\n",
              "  /* draw centered vertical line to link estimators */\n",
              "  background-image: linear-gradient(var(--sklearn-color-text-on-default-background), var(--sklearn-color-text-on-default-background));\n",
              "  background-size: 2px 100%;\n",
              "  background-repeat: no-repeat;\n",
              "  background-position: center center;\n",
              "}\n",
              "\n",
              "/* Parallel-specific style estimator block */\n",
              "\n",
              "#sk-container-id-1 div.sk-parallel-item::after {\n",
              "  content: \"\";\n",
              "  width: 100%;\n",
              "  border-bottom: 2px solid var(--sklearn-color-text-on-default-background);\n",
              "  flex-grow: 1;\n",
              "}\n",
              "\n",
              "#sk-container-id-1 div.sk-parallel {\n",
              "  display: flex;\n",
              "  align-items: stretch;\n",
              "  justify-content: center;\n",
              "  background-color: var(--sklearn-color-background);\n",
              "  position: relative;\n",
              "}\n",
              "\n",
              "#sk-container-id-1 div.sk-parallel-item {\n",
              "  display: flex;\n",
              "  flex-direction: column;\n",
              "}\n",
              "\n",
              "#sk-container-id-1 div.sk-parallel-item:first-child::after {\n",
              "  align-self: flex-end;\n",
              "  width: 50%;\n",
              "}\n",
              "\n",
              "#sk-container-id-1 div.sk-parallel-item:last-child::after {\n",
              "  align-self: flex-start;\n",
              "  width: 50%;\n",
              "}\n",
              "\n",
              "#sk-container-id-1 div.sk-parallel-item:only-child::after {\n",
              "  width: 0;\n",
              "}\n",
              "\n",
              "/* Serial-specific style estimator block */\n",
              "\n",
              "#sk-container-id-1 div.sk-serial {\n",
              "  display: flex;\n",
              "  flex-direction: column;\n",
              "  align-items: center;\n",
              "  background-color: var(--sklearn-color-background);\n",
              "  padding-right: 1em;\n",
              "  padding-left: 1em;\n",
              "}\n",
              "\n",
              "\n",
              "/* Toggleable style: style used for estimator/Pipeline/ColumnTransformer box that is\n",
              "clickable and can be expanded/collapsed.\n",
              "- Pipeline and ColumnTransformer use this feature and define the default style\n",
              "- Estimators will overwrite some part of the style using the `sk-estimator` class\n",
              "*/\n",
              "\n",
              "/* Pipeline and ColumnTransformer style (default) */\n",
              "\n",
              "#sk-container-id-1 div.sk-toggleable {\n",
              "  /* Default theme specific background. It is overwritten whether we have a\n",
              "  specific estimator or a Pipeline/ColumnTransformer */\n",
              "  background-color: var(--sklearn-color-background);\n",
              "}\n",
              "\n",
              "/* Toggleable label */\n",
              "#sk-container-id-1 label.sk-toggleable__label {\n",
              "  cursor: pointer;\n",
              "  display: block;\n",
              "  width: 100%;\n",
              "  margin-bottom: 0;\n",
              "  padding: 0.5em;\n",
              "  box-sizing: border-box;\n",
              "  text-align: center;\n",
              "}\n",
              "\n",
              "#sk-container-id-1 label.sk-toggleable__label-arrow:before {\n",
              "  /* Arrow on the left of the label */\n",
              "  content: \"▸\";\n",
              "  float: left;\n",
              "  margin-right: 0.25em;\n",
              "  color: var(--sklearn-color-icon);\n",
              "}\n",
              "\n",
              "#sk-container-id-1 label.sk-toggleable__label-arrow:hover:before {\n",
              "  color: var(--sklearn-color-text);\n",
              "}\n",
              "\n",
              "/* Toggleable content - dropdown */\n",
              "\n",
              "#sk-container-id-1 div.sk-toggleable__content {\n",
              "  max-height: 0;\n",
              "  max-width: 0;\n",
              "  overflow: hidden;\n",
              "  text-align: left;\n",
              "  /* unfitted */\n",
              "  background-color: var(--sklearn-color-unfitted-level-0);\n",
              "}\n",
              "\n",
              "#sk-container-id-1 div.sk-toggleable__content.fitted {\n",
              "  /* fitted */\n",
              "  background-color: var(--sklearn-color-fitted-level-0);\n",
              "}\n",
              "\n",
              "#sk-container-id-1 div.sk-toggleable__content pre {\n",
              "  margin: 0.2em;\n",
              "  border-radius: 0.25em;\n",
              "  color: var(--sklearn-color-text);\n",
              "  /* unfitted */\n",
              "  background-color: var(--sklearn-color-unfitted-level-0);\n",
              "}\n",
              "\n",
              "#sk-container-id-1 div.sk-toggleable__content.fitted pre {\n",
              "  /* unfitted */\n",
              "  background-color: var(--sklearn-color-fitted-level-0);\n",
              "}\n",
              "\n",
              "#sk-container-id-1 input.sk-toggleable__control:checked~div.sk-toggleable__content {\n",
              "  /* Expand drop-down */\n",
              "  max-height: 200px;\n",
              "  max-width: 100%;\n",
              "  overflow: auto;\n",
              "}\n",
              "\n",
              "#sk-container-id-1 input.sk-toggleable__control:checked~label.sk-toggleable__label-arrow:before {\n",
              "  content: \"▾\";\n",
              "}\n",
              "\n",
              "/* Pipeline/ColumnTransformer-specific style */\n",
              "\n",
              "#sk-container-id-1 div.sk-label input.sk-toggleable__control:checked~label.sk-toggleable__label {\n",
              "  color: var(--sklearn-color-text);\n",
              "  background-color: var(--sklearn-color-unfitted-level-2);\n",
              "}\n",
              "\n",
              "#sk-container-id-1 div.sk-label.fitted input.sk-toggleable__control:checked~label.sk-toggleable__label {\n",
              "  background-color: var(--sklearn-color-fitted-level-2);\n",
              "}\n",
              "\n",
              "/* Estimator-specific style */\n",
              "\n",
              "/* Colorize estimator box */\n",
              "#sk-container-id-1 div.sk-estimator input.sk-toggleable__control:checked~label.sk-toggleable__label {\n",
              "  /* unfitted */\n",
              "  background-color: var(--sklearn-color-unfitted-level-2);\n",
              "}\n",
              "\n",
              "#sk-container-id-1 div.sk-estimator.fitted input.sk-toggleable__control:checked~label.sk-toggleable__label {\n",
              "  /* fitted */\n",
              "  background-color: var(--sklearn-color-fitted-level-2);\n",
              "}\n",
              "\n",
              "#sk-container-id-1 div.sk-label label.sk-toggleable__label,\n",
              "#sk-container-id-1 div.sk-label label {\n",
              "  /* The background is the default theme color */\n",
              "  color: var(--sklearn-color-text-on-default-background);\n",
              "}\n",
              "\n",
              "/* On hover, darken the color of the background */\n",
              "#sk-container-id-1 div.sk-label:hover label.sk-toggleable__label {\n",
              "  color: var(--sklearn-color-text);\n",
              "  background-color: var(--sklearn-color-unfitted-level-2);\n",
              "}\n",
              "\n",
              "/* Label box, darken color on hover, fitted */\n",
              "#sk-container-id-1 div.sk-label.fitted:hover label.sk-toggleable__label.fitted {\n",
              "  color: var(--sklearn-color-text);\n",
              "  background-color: var(--sklearn-color-fitted-level-2);\n",
              "}\n",
              "\n",
              "/* Estimator label */\n",
              "\n",
              "#sk-container-id-1 div.sk-label label {\n",
              "  font-family: monospace;\n",
              "  font-weight: bold;\n",
              "  display: inline-block;\n",
              "  line-height: 1.2em;\n",
              "}\n",
              "\n",
              "#sk-container-id-1 div.sk-label-container {\n",
              "  text-align: center;\n",
              "}\n",
              "\n",
              "/* Estimator-specific */\n",
              "#sk-container-id-1 div.sk-estimator {\n",
              "  font-family: monospace;\n",
              "  border: 1px dotted var(--sklearn-color-border-box);\n",
              "  border-radius: 0.25em;\n",
              "  box-sizing: border-box;\n",
              "  margin-bottom: 0.5em;\n",
              "  /* unfitted */\n",
              "  background-color: var(--sklearn-color-unfitted-level-0);\n",
              "}\n",
              "\n",
              "#sk-container-id-1 div.sk-estimator.fitted {\n",
              "  /* fitted */\n",
              "  background-color: var(--sklearn-color-fitted-level-0);\n",
              "}\n",
              "\n",
              "/* on hover */\n",
              "#sk-container-id-1 div.sk-estimator:hover {\n",
              "  /* unfitted */\n",
              "  background-color: var(--sklearn-color-unfitted-level-2);\n",
              "}\n",
              "\n",
              "#sk-container-id-1 div.sk-estimator.fitted:hover {\n",
              "  /* fitted */\n",
              "  background-color: var(--sklearn-color-fitted-level-2);\n",
              "}\n",
              "\n",
              "/* Specification for estimator info (e.g. \"i\" and \"?\") */\n",
              "\n",
              "/* Common style for \"i\" and \"?\" */\n",
              "\n",
              ".sk-estimator-doc-link,\n",
              "a:link.sk-estimator-doc-link,\n",
              "a:visited.sk-estimator-doc-link {\n",
              "  float: right;\n",
              "  font-size: smaller;\n",
              "  line-height: 1em;\n",
              "  font-family: monospace;\n",
              "  background-color: var(--sklearn-color-background);\n",
              "  border-radius: 1em;\n",
              "  height: 1em;\n",
              "  width: 1em;\n",
              "  text-decoration: none !important;\n",
              "  margin-left: 1ex;\n",
              "  /* unfitted */\n",
              "  border: var(--sklearn-color-unfitted-level-1) 1pt solid;\n",
              "  color: var(--sklearn-color-unfitted-level-1);\n",
              "}\n",
              "\n",
              ".sk-estimator-doc-link.fitted,\n",
              "a:link.sk-estimator-doc-link.fitted,\n",
              "a:visited.sk-estimator-doc-link.fitted {\n",
              "  /* fitted */\n",
              "  border: var(--sklearn-color-fitted-level-1) 1pt solid;\n",
              "  color: var(--sklearn-color-fitted-level-1);\n",
              "}\n",
              "\n",
              "/* On hover */\n",
              "div.sk-estimator:hover .sk-estimator-doc-link:hover,\n",
              ".sk-estimator-doc-link:hover,\n",
              "div.sk-label-container:hover .sk-estimator-doc-link:hover,\n",
              ".sk-estimator-doc-link:hover {\n",
              "  /* unfitted */\n",
              "  background-color: var(--sklearn-color-unfitted-level-3);\n",
              "  color: var(--sklearn-color-background);\n",
              "  text-decoration: none;\n",
              "}\n",
              "\n",
              "div.sk-estimator.fitted:hover .sk-estimator-doc-link.fitted:hover,\n",
              ".sk-estimator-doc-link.fitted:hover,\n",
              "div.sk-label-container:hover .sk-estimator-doc-link.fitted:hover,\n",
              ".sk-estimator-doc-link.fitted:hover {\n",
              "  /* fitted */\n",
              "  background-color: var(--sklearn-color-fitted-level-3);\n",
              "  color: var(--sklearn-color-background);\n",
              "  text-decoration: none;\n",
              "}\n",
              "\n",
              "/* Span, style for the box shown on hovering the info icon */\n",
              ".sk-estimator-doc-link span {\n",
              "  display: none;\n",
              "  z-index: 9999;\n",
              "  position: relative;\n",
              "  font-weight: normal;\n",
              "  right: .2ex;\n",
              "  padding: .5ex;\n",
              "  margin: .5ex;\n",
              "  width: min-content;\n",
              "  min-width: 20ex;\n",
              "  max-width: 50ex;\n",
              "  color: var(--sklearn-color-text);\n",
              "  box-shadow: 2pt 2pt 4pt #999;\n",
              "  /* unfitted */\n",
              "  background: var(--sklearn-color-unfitted-level-0);\n",
              "  border: .5pt solid var(--sklearn-color-unfitted-level-3);\n",
              "}\n",
              "\n",
              ".sk-estimator-doc-link.fitted span {\n",
              "  /* fitted */\n",
              "  background: var(--sklearn-color-fitted-level-0);\n",
              "  border: var(--sklearn-color-fitted-level-3);\n",
              "}\n",
              "\n",
              ".sk-estimator-doc-link:hover span {\n",
              "  display: block;\n",
              "}\n",
              "\n",
              "/* \"?\"-specific style due to the `<a>` HTML tag */\n",
              "\n",
              "#sk-container-id-1 a.estimator_doc_link {\n",
              "  float: right;\n",
              "  font-size: 1rem;\n",
              "  line-height: 1em;\n",
              "  font-family: monospace;\n",
              "  background-color: var(--sklearn-color-background);\n",
              "  border-radius: 1rem;\n",
              "  height: 1rem;\n",
              "  width: 1rem;\n",
              "  text-decoration: none;\n",
              "  /* unfitted */\n",
              "  color: var(--sklearn-color-unfitted-level-1);\n",
              "  border: var(--sklearn-color-unfitted-level-1) 1pt solid;\n",
              "}\n",
              "\n",
              "#sk-container-id-1 a.estimator_doc_link.fitted {\n",
              "  /* fitted */\n",
              "  border: var(--sklearn-color-fitted-level-1) 1pt solid;\n",
              "  color: var(--sklearn-color-fitted-level-1);\n",
              "}\n",
              "\n",
              "/* On hover */\n",
              "#sk-container-id-1 a.estimator_doc_link:hover {\n",
              "  /* unfitted */\n",
              "  background-color: var(--sklearn-color-unfitted-level-3);\n",
              "  color: var(--sklearn-color-background);\n",
              "  text-decoration: none;\n",
              "}\n",
              "\n",
              "#sk-container-id-1 a.estimator_doc_link.fitted:hover {\n",
              "  /* fitted */\n",
              "  background-color: var(--sklearn-color-fitted-level-3);\n",
              "}\n",
              "</style><div id=\"sk-container-id-1\" class=\"sk-top-container\"><div class=\"sk-text-repr-fallback\"><pre>LinearRegression()</pre><b>In a Jupyter environment, please rerun this cell to show the HTML representation or trust the notebook. <br />On GitHub, the HTML representation is unable to render, please try loading this page with nbviewer.org.</b></div><div class=\"sk-container\" hidden><div class=\"sk-item\"><div class=\"sk-estimator fitted sk-toggleable\"><input class=\"sk-toggleable__control sk-hidden--visually\" id=\"sk-estimator-id-1\" type=\"checkbox\" checked><label for=\"sk-estimator-id-1\" class=\"sk-toggleable__label fitted sk-toggleable__label-arrow fitted\">&nbsp;&nbsp;LinearRegression<a class=\"sk-estimator-doc-link fitted\" rel=\"noreferrer\" target=\"_blank\" href=\"https://scikit-learn.org/1.5/modules/generated/sklearn.linear_model.LinearRegression.html\">?<span>Documentation for LinearRegression</span></a><span class=\"sk-estimator-doc-link fitted\">i<span>Fitted</span></span></label><div class=\"sk-toggleable__content fitted\"><pre>LinearRegression()</pre></div> </div></div></div></div>"
            ]
          },
          "metadata": {},
          "execution_count": 34
        }
      ]
    },
    {
      "cell_type": "markdown",
      "source": [
        "#9. Predict and Evaluate"
      ],
      "metadata": {
        "id": "pf2cOxjje558"
      }
    },
    {
      "cell_type": "code",
      "source": [
        "# Make predictions on the test data\n",
        "y_pred = model.predict(X_test)\n",
        "\n",
        "# Calculate evaluation metrics\n",
        "mse = mean_squared_error(y_test, y_pred)\n",
        "mae = mean_absolute_error(y_test, y_pred)\n",
        "r2 = r2_score(y_test, y_pred)\n",
        "\n",
        "# Print the evaluation metrics\n",
        "print(f\"Mean Squared Error: {mse}\")\n",
        "print(f\"Mean Absolute Error: {mae}\")\n",
        "print(f\"R^2 Score: {r2}\")"
      ],
      "metadata": {
        "colab": {
          "base_uri": "https://localhost:8080/"
        },
        "id": "m56jaM2NfkQh",
        "outputId": "02ecc7d6-00df-45b9-da36-262f93e8483b"
      },
      "execution_count": null,
      "outputs": [
        {
          "output_type": "stream",
          "name": "stdout",
          "text": [
            "Mean Squared Error: 837.1887770661497\n",
            "Mean Absolute Error: 17.45671896879346\n",
            "R^2 Score: 0.4589810311541912\n"
          ]
        }
      ]
    },
    {
      "cell_type": "markdown",
      "source": [
        "#10. Visualize Results"
      ],
      "metadata": {
        "id": "lVhge4SDe8O3"
      }
    },
    {
      "cell_type": "code",
      "source": [
        "# Visualizing actual vs predicted fares\n",
        "plt.figure(figsize=(8,6))\n",
        "plt.scatter(y_test, y_pred, color=\"blue\", label=\"Predicted\")\n",
        "plt.plot([min(y_test), max(y_test)], [min(y_test), max(y_test)], color='red', linewidth=2, label=\"Ideal Fit\")\n",
        "plt.xlabel('Actual Fare')\n",
        "plt.ylabel('Predicted Fare')\n",
        "plt.title('Actual vs Predicted Fare')\n",
        "plt.legend()\n",
        "plt.show()\n"
      ],
      "metadata": {
        "colab": {
          "base_uri": "https://localhost:8080/",
          "height": 512
        },
        "id": "5GIoH853fkq1",
        "outputId": "f02dbed7-f2da-4513-c06f-341797021e3d"
      },
      "execution_count": null,
      "outputs": [
        {
          "output_type": "display_data",
          "data": {
            "text/plain": [
              "<Figure size 800x600 with 1 Axes>"
            ],
            "image/png": "[encoded data removed]"
          },
          "metadata": {}
        }
      ]
    }
  ]
}